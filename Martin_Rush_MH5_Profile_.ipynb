{
 "cells": [
  {
   "cell_type": "markdown",
   "id": "0feca6ca-dc34-45c1-9840-b791dc194a9a",
   "metadata": {},
   "source": [
    "# Fixture Profile Analysis: Martin Rush MH 5 Profile\n",
    "\n",
    "## Translating a Technical Manual into Structured Data\n",
    "\n",
    "**Objective:** This project simulates the core workflow of a Fixture Library Support Technician. Using the official user manual, we will analyse the DMX protocol for the Martin Rush MH 5 Profile and construct a well-formed XML profile that represents its functionality.\n",
    "<br>"
   ]
  },
  {
   "cell_type": "markdown",
   "id": "0b10829a-29f2-4c41-b60e-6c1d2eb3166c",
   "metadata": {},
   "source": [
    "## 1. Understanding the Fixture\n",
    "\n",
    "Before delving into the data, it's important to understand the physical fixture we are defining. The Rush MH 5 Profile is a moving head light capable of changing colour, gobos, and executing complex shutter effects.\n",
    "<br>\n",
    "<br>\n",
    "*Click the image to watch a demo.*\n",
    "<br>\n",
    "\n",
    "<div align=\"center\">\n",
    "  <a href=\"https://www.youtube.com/watch?v=z7pXPoN3Hmc\">\n",
    "    <img src=\"https://img.youtube.com/vi/z7pXPoN3Hmc/0.jpg\" alt=\"Martin Rush MH 5 Profile Demo\">\n",
    "  </a>\n",
    "</div>\n",
    "<br>\n"
   ]
  },
  {
   "cell_type": "markdown",
   "id": "35f0295e-3bc2-4c82-b410-7e3bc1d3d7d6",
   "metadata": {
    "jp-MarkdownHeadingCollapsed": true
   },
   "source": [
    "## 2. Source Data: DMX Protocol from the Manual\n",
    "\n",
    "The following table, extracted directly from the official Martin user manual (p. 31-32), defines the complex behavior of **Channel 3 (Strobe)** and **Channel 4 (Color Wheel 1)**. This is the raw data we need to translate.<br>\n",
    "[Martin Rush MH 5 Profile — User Manual (PDF)](RUSHMH5Profile_EN.pdf)\n",
    "\n",
    "<br>\n",
    "\n",
    "\n",
    "| Channel | Value Range | Function Description |\n",
    "| :--- | :--- | :--- |\n",
    "| 3 | 0-7 | Off |\n",
    "| | 8-15 | Open |\n",
    "| | 16-131 | Strobe, slow → fast |\n",
    "| | 132-167 | Fast close, slow open |\n",
    "| | 168-203 | Slow close, fast open |\n",
    "| | 204-239 | Pulse open and close |\n",
    "| | 240-247 | Random strobe |\n",
    "| | 248-255 | Open |\n",
    "| **4** | **0** | **White** |\n",
    "| | **1-14** | **White → Red** |\n",
    "| | **15** | **Red (Color 1)** |\n",
    "| | ... | ... *(and so on, you can summarize it)* |\n",
    "| | 248-255 | Medium |\n",
    "\n",
    "<br>\n"
   ]
  },
  {
   "cell_type": "markdown",
   "id": "3dc72570-9a17-4701-aa74-4995456fe348",
   "metadata": {},
   "source": [
    "## 4. Translating the DMX Table to XML\n",
    "\n",
    "The next step is to translate the DMX value ranges from the manual into `<Capability>` tags within the XML structure. Each row in the table becomes a capability."
   ]
  },
  {
   "cell_type": "code",
   "execution_count": null,
   "id": "86763918-049a-4f79-9d06-8b37b6a93c88",
   "metadata": {},
   "outputs": [],
   "source": [
    "<?xml version=\"1.0\" encoding=\"UTF-8\"?>\n",
    "<FixtureDefinition>\n",
    "    <Manufacturer>Martin</Manufacturer>\n",
    "    <Model>Rush MH 5 Profile (Demo Analysis)</Model>\n",
    "    <Type>Moving Head</Type>\n",
    "\n",
    "    <Channels>\n",
    "        <!-- Channel 3: Strobe -->\n",
    "        <Channel number=\"3\">\n",
    "            <ChannelName>Strobe</ChannelName>\n",
    "            <Group>Shutter</Group>\n",
    "            <Capabilities>\n",
    "                <Capability min=\"0\"   max=\"7\">Shutter closed</Capability>\n",
    "                <Capability min=\"8\"   max=\"15\">Shutter open</Capability>\n",
    "                <Capability min=\"16\"  max=\"131\">Strobe slow → fast</Capability>\n",
    "                <Capability min=\"132\" max=\"167\">Ramp up strobe</Capability>\n",
    "                <Capability min=\"168\" max=\"203\">Ramp down strobe</Capability>\n",
    "                <Capability min=\"204\" max=\"239\">Pulse strobe</Capability>\n",
    "                <Capability min=\"240\" max=\"247\">Random strobe</Capability>\n",
    "                <Capability min=\"248\" max=\"255\">Shutter open</Capability>\n",
    "            </Capabilities>\n",
    "        </Channel>\n",
    "\n",
    "        <!-- Channel 4: Color Wheel 1 -->\n",
    "        <Channel number=\"4\">\n",
    "            <ChannelName>Color Wheel 1</ChannelName>\n",
    "            <Group>Colour</Group>\n",
    "            <Capabilities>\n",
    "                <Capability min=\"0\"   max=\"0\">Open</Capability>\n",
    "                <Capability min=\"1\"   max=\"14\">Open → Red</Capability>\n",
    "                <Capability min=\"15\"  max=\"15\">Red</Capability>\n",
    "                <Capability min=\"16\"  max=\"29\">Red → Deep Blue</Capability>\n",
    "                <Capability min=\"30\"  max=\"30\">Deep Blue</Capability>\n",
    "                <Capability min=\"31\"  max=\"44\">Deep Blue → Lavender</Capability>\n",
    "                <Capability min=\"45\"  max=\"45\">Lavender</Capability>\n",
    "                <Capability min=\"46\"  max=\"59\">Lavender → Magenta</Capability>\n",
    "                <Capability min=\"60\"  max=\"60\">Magenta</Capability>\n",
    "                <Capability min=\"61\"  max=\"74\">Magenta → Yellow</Capability>\n",
    "                <Capability min=\"75\"  max=\"75\">Yellow</Capability>\n",
    "                <Capability min=\"76\"  max=\"89\">Yellow → Orange</Capability>\n",
    "                <Capability min=\"90\"  max=\"90\">Orange</Capability>\n",
    "                <Capability min=\"91\"  max=\"104\">Orange → Light Green</Capability>\n",
    "                <Capability min=\"105\" max=\"105\">Light Green</Capability>\n",
    "                <Capability min=\"106\" max=\"119\">Light Green → Light Blue</Capability>\n",
    "                <Capability min=\"120\" max=\"120\">Light Blue</Capability>\n",
    "                <Capability min=\"121\" max=\"134\">Light Blue → Open</Capability>\n",
    "                <Capability min=\"135\" max=\"160\">Open</Capability>\n",
    "\n",
    "                <!-- Discrete fixed colors -->\n",
    "                <Capability min=\"161\" max=\"163\">Red</Capability>\n",
    "                <Capability min=\"164\" max=\"166\">Deep Blue</Capability>\n",
    "                <Capability min=\"167\" max=\"169\">Lavender</Capability>\n",
    "                <Capability min=\"170\" max=\"172\">Magenta</Capability>\n",
    "                <Capability min=\"173\" max=\"175\">Yellow</Capability>\n",
    "                <Capability min=\"176\" max=\"178\">Orange</Capability>\n",
    "                <Capability min=\"179\" max=\"181\">Light Green</Capability>\n",
    "                <Capability min=\"182\" max=\"184\">Light Blue</Capability>\n",
    "                <Capability min=\"185\" max=\"192\">Open</Capability>\n",
    "\n",
    "                <!-- Rotation modes -->\n",
    "                <Capability min=\"193\" max=\"214\">Color Wheel 1 rotation CW fast → slow</Capability>\n",
    "                <Capability min=\"215\" max=\"221\">Color Wheel 1 rotation stop</Capability>\n",
    "                <Capability min=\"222\" max=\"243\">Color Wheel 1 rotation CCW slow → fast</Capability>\n",
    "\n",
    "                <!-- Random color modes -->\n",
    "                <Capability min=\"244\" max=\"247\">Random color fast</Capability>\n",
    "                <Capability min=\"248\" max=\"251\">Random color 50% speed</Capability>\n",
    "                <Capability min=\"252\" max=\"255\">Random color slow</Capability>\n",
    "            </Capabilities>\n",
    "        </Channel>\n",
    "    </Channels>\n",
    "</FixtureDefinition>\n"
   ]
  },
  {
   "cell_type": "markdown",
   "id": "1046aa10-5e2c-46ef-bef7-e60ef84edf9b",
   "metadata": {},
   "source": [
    "## Conclusion\n",
    "\n",
    "This exercise showed how to translate the Martin Rush MH 5 Profile manual into structured data.  \n",
    "We extracted the DMX protocol, organized it into a clear table, and converted it into an XML profile with channels and capabilities.  \n",
    "The result demonstrates the core workflow of turning manufacturer documentation into machine-readable fixture definitions, a key task for fixture library support.\n"
   ]
  }
 ],
 "metadata": {
  "kernelspec": {
   "display_name": "anaconda-panel-2023.05-py310",
   "language": "python",
   "name": "conda-env-anaconda-panel-2023.05-py310-py"
  },
  "language_info": {
   "codemirror_mode": {
    "name": "ipython",
    "version": 3
   },
   "file_extension": ".py",
   "mimetype": "text/x-python",
   "name": "python",
   "nbconvert_exporter": "python",
   "pygments_lexer": "ipython3",
   "version": "3.11.5"
  }
 },
 "nbformat": 4,
 "nbformat_minor": 5
}
